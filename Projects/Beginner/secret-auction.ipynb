{
 "cells": [
  {
   "cell_type": "code",
   "execution_count": 2,
   "id": "7aa3e746",
   "metadata": {},
   "outputs": [
    {
     "name": "stdout",
     "output_type": "stream",
     "text": [
      "Whats your name? aaaa\n",
      "Whats your bid? $123\n",
      "are there more people? Type 'y' or 'n'y\n",
      "Whats your name? bbb\n",
      "Whats your bid? $511\n",
      "are there more people? Type 'y' or 'n'n\n",
      "bbb has highest bid: 511!\n"
     ]
    }
   ],
   "source": [
    "bid_list = {}\n",
    "repeat = True\n",
    "\n",
    "def highest_bid(bidding_record):\n",
    "    highest_bid = 0\n",
    "    winner = \"\"\n",
    "    for name in bidding_record:\n",
    "        bid_amount = bidding_record[name]\n",
    "        if bid_amount > highest_bid:\n",
    "            highest_bid = bid_amount\n",
    "            winner = name\n",
    "    print(f\"{winner} has highest bid: {highest_bid}!\")\n",
    "        \n",
    "while repeat:\n",
    "    \n",
    "    name = input(f\"Whats your name? \")\n",
    "    bid = int(input(f\"Whats your bid? $\"))\n",
    "\n",
    "    bid_list[name] = bid\n",
    "\n",
    "    more_people = input(f\"are there more people? Type 'y' or 'n'\").lower()\n",
    "    if more_people == \"n\":\n",
    "        repeat = False\n",
    "        highest_bid(bid_list)\n",
    "    \n",
    "\n"
   ]
  },
  {
   "cell_type": "code",
   "execution_count": null,
   "id": "605630ae",
   "metadata": {},
   "outputs": [],
   "source": []
  },
  {
   "cell_type": "code",
   "execution_count": null,
   "id": "54df76d6",
   "metadata": {},
   "outputs": [],
   "source": []
  }
 ],
 "metadata": {
  "kernelspec": {
   "display_name": "Python 3 (ipykernel)",
   "language": "python",
   "name": "python3"
  },
  "language_info": {
   "codemirror_mode": {
    "name": "ipython",
    "version": 3
   },
   "file_extension": ".py",
   "mimetype": "text/x-python",
   "name": "python",
   "nbconvert_exporter": "python",
   "pygments_lexer": "ipython3",
   "version": "3.9.12"
  }
 },
 "nbformat": 4,
 "nbformat_minor": 5
}
