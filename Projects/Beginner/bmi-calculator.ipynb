{
 "cells": [
  {
   "cell_type": "code",
   "execution_count": null,
   "id": "d58b248c",
   "metadata": {},
   "outputs": [],
   "source": [
    "#beginner\n",
    "#Welcome to BMI calculator!\n",
    "\n",
    "#The BMI is a measure of someone's weight taking into account their height. e.g. If a tall person and a short person both weigh the\n",
    "#same amount, the short person is usually more overweight.\n",
    "\n",
    "#The BMI is calculated by dividing a person's weight (in kg) by the square of their height (in m):\n",
    "#BMI = weight/height**2\n",
    "\n",
    "#source - https://en.wikipedia.org/wiki/Body_mass_index\n",
    "\n",
    "#It should tell them the interpretation of their BMI based on the BMI value.\n",
    "# - Under 18.5 they are underweight\n",
    "# - Equal to or over 18.5 but below 25 they have a normal weight\n",
    "# - Equal to or over 25 but below 30 they are slightly overweight\n",
    "# - Equal to or over 30 but below 35 they are obese\n",
    "# - Equal to or over 35 they are clinically obese.\n",
    "\n",
    "#input request to enter height and weight in cm/kg\n",
    "height = float(input(\"Enter your height in cm: \"))\n",
    "weight = int(input(\"Enter your weight in kg: \"))\n"
   ]
  },
  {
   "cell_type": "code",
   "execution_count": null,
   "id": "163c7d12",
   "metadata": {},
   "outputs": [],
   "source": [
    "#change of the data types and reformating\n",
    "height_float = float(height)/100\n",
    "weight_int = float(weight)\n",
    "\n",
    "#formula according to https://www.cdc.gov/\n",
    "bmi =  weight_int/height_float**2\n",
    "bmi_int = int(bmi)\n",
    "\n",
    "\n",
    "# details notice\n",
    "if bmi_int > 0:\n",
    "    if bmi_int <= 18.5:\n",
    "        print(f\"Your body mass index is {bmi_int}! You are underweight\")\n",
    "    elif bmi_int<= 25:\n",
    "        print (f\"Your body mass index is {bmi_int}! You are healthy\")\n",
    "    elif bmi_int<= 29.99:\n",
    "        print (f\"Your body mass index is {bmi_int}! You are overweight\")\n",
    "    else: print(f\"Your body mass index is {bmi_int}! You are obese\")\n",
    "else: print(\"invalid details\")\n",
    "\n",
    "\n"
   ]
  },
  {
   "cell_type": "code",
   "execution_count": null,
   "id": "3e040931",
   "metadata": {},
   "outputs": [],
   "source": [
    "\n",
    "        "
   ]
  },
  {
   "cell_type": "code",
   "execution_count": null,
   "id": "41e74a4c",
   "metadata": {},
   "outputs": [],
   "source": []
  }
 ],
 "metadata": {
  "kernelspec": {
   "display_name": "Python 3 (ipykernel)",
   "language": "python",
   "name": "python3"
  },
  "language_info": {
   "codemirror_mode": {
    "name": "ipython",
    "version": 3
   },
   "file_extension": ".py",
   "mimetype": "text/x-python",
   "name": "python",
   "nbconvert_exporter": "python",
   "pygments_lexer": "ipython3",
   "version": "3.9.12"
  }
 },
 "nbformat": 4,
 "nbformat_minor": 5
}
