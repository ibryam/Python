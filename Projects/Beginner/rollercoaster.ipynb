{
 "cells": [
  {
   "cell_type": "code",
   "execution_count": null,
   "id": "9fc499a7",
   "metadata": {},
   "outputs": [],
   "source": [
    "#beginner\n",
    "print (\"Welcome to the rollercoaster!\")\n",
    "\n",
    "#request for an input\n",
    "height = int(input(\"What is your height in cm? \"))\n",
    "bill = 0\n",
    "\n",
    "#filtering out all customers shorter than 120cm\n",
    "\n",
    "if height >= 120:\n",
    "    print(\"You can ride the rollercoaster!\")\n",
    "    age = int(input(\"What is your age? \"))\n",
    "\n",
    "    #nested if statement to decide age group and price\n",
    "    if age < 12:\n",
    "        bill = 5\n",
    "        print(\"Child tickets are €5.\")\n",
    "    elif age < 18:\n",
    "        bill = 7\n",
    "        print(\"Your tickets are €7.\")\n",
    "    elif age >= 44 and age <=55:\n",
    "        print(\"Midlife crisis promotion! Tickets are €0.\")\n",
    "    else:\n",
    "        bill = 12\n",
    "        print (\"Adults tickets are €12.\")    \n",
    "    wants_photo = input(\"Do you want a photo taken? Y or N? \").upper()\n",
    "    \n",
    "    if wants_photo == \"Y\":\n",
    "        # Add €3 to the bill\n",
    "        bill += 3\n",
    "        \n",
    "        #final price to be paid\n",
    "    print(f\"Your final bill is €{bill}\")\n",
    "        \n",
    "else:\n",
    "    print(\"Sorry, you have to grow taller before you can ride.\")"
   ]
  },
  {
   "cell_type": "code",
   "execution_count": null,
   "id": "8772255a",
   "metadata": {},
   "outputs": [],
   "source": []
  },
  {
   "cell_type": "code",
   "execution_count": null,
   "id": "a7f2a19b",
   "metadata": {},
   "outputs": [],
   "source": []
  }
 ],
 "metadata": {
  "kernelspec": {
   "display_name": "Python 3 (ipykernel)",
   "language": "python",
   "name": "python3"
  },
  "language_info": {
   "codemirror_mode": {
    "name": "ipython",
    "version": 3
   },
   "file_extension": ".py",
   "mimetype": "text/x-python",
   "name": "python",
   "nbconvert_exporter": "python",
   "pygments_lexer": "ipython3",
   "version": "3.9.12"
  }
 },
 "nbformat": 4,
 "nbformat_minor": 5
}
