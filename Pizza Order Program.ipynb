{
 "cells": [
  {
   "cell_type": "code",
   "execution_count": null,
   "id": "08c333b5",
   "metadata": {},
   "outputs": [],
   "source": [
    "#beginner\n",
    "print(\"Thank you for choosing Python Pizza Deliveries!\") \n",
    "\n",
    "#This is an automatic program for ordering a pizza. The program calculates the total bill based on customer's choice.\n",
    "#Price list:\n",
    "\n",
    "#Small pizza (S): €15\n",
    "#Medium pizza (M): €20\n",
    "#Large pizza (L): €25\n",
    "#Add pepperoni for small pizza (Y or N): +€2\n",
    "#Add pepperoni for medium or large pizza (Y or N): +€3\n",
    "#Add extra cheese for any size pizza (Y or N): +€1\n",
    "\n"
   ]
  },
  {
   "cell_type": "code",
   "execution_count": null,
   "id": "99f580d1",
   "metadata": {},
   "outputs": [],
   "source": [
    "size = input(\"What size pizza do you want? S, M, or L -> \").upper()\n",
    "bill = 0"
   ]
  },
  {
   "cell_type": "code",
   "execution_count": null,
   "id": "7f03f49d",
   "metadata": {},
   "outputs": [],
   "source": [
    "if size == \"S\":\n",
    "    bill += 15\n",
    "elif size == \"M\":\n",
    "    bill += 20\n",
    "elif size == \"L\":\n",
    "    bill += 25\n",
    "else:\n",
    "    print(\"Please selected а valid size!\")\n",
    "    \n",
    "add_pepperoni = input(\"Do you want pepperoni? Y or N \").upper()\n",
    "if add_pepperoni == \"Y\":\n",
    "    if size == \"S\":\n",
    "        bill += 2\n",
    "    else:\n",
    "        bill += 3\n",
    "        \n",
    "extra_cheese = input(\"Do you want extra cheese? Y or N \").upper()\n",
    "if extra_cheese == \"Y\":\n",
    "    bill += 1\n",
    "\n",
    "print(f\"Your final bill is: €{bill}.\")"
   ]
  }
 ],
 "metadata": {
  "kernelspec": {
   "display_name": "Python 3 (ipykernel)",
   "language": "python",
   "name": "python3"
  },
  "language_info": {
   "codemirror_mode": {
    "name": "ipython",
    "version": 3
   },
   "file_extension": ".py",
   "mimetype": "text/x-python",
   "name": "python",
   "nbconvert_exporter": "python",
   "pygments_lexer": "ipython3",
   "version": "3.9.12"
  }
 },
 "nbformat": 4,
 "nbformat_minor": 5
}
