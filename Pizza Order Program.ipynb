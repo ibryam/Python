{
 "cells": [
  {
   "cell_type": "code",
   "execution_count": 19,
   "id": "08c333b5",
   "metadata": {},
   "outputs": [
    {
     "name": "stdout",
     "output_type": "stream",
     "text": [
      "Thank you for choosing Python Pizza Deliveries!\n"
     ]
    }
   ],
   "source": [
    "print(\"Thank you for choosing Python Pizza Deliveries!\")"
   ]
  },
  {
   "cell_type": "code",
   "execution_count": 20,
   "id": "99f580d1",
   "metadata": {},
   "outputs": [
    {
     "name": "stdout",
     "output_type": "stream",
     "text": [
      "What size pizza do you want? S, M, or L -> m\n"
     ]
    }
   ],
   "source": [
    "size = input(\"What size pizza do you want? S, M, or L -> \").upper()\n",
    "bill = 0"
   ]
  },
  {
   "cell_type": "code",
   "execution_count": 21,
   "id": "7f03f49d",
   "metadata": {},
   "outputs": [
    {
     "name": "stdout",
     "output_type": "stream",
     "text": [
      "Do you want pepperoni? Y or N n\n",
      "Do you want extra cheese? Y or N n\n",
      "Your final bill is: €20.\n"
     ]
    }
   ],
   "source": [
    "if size == \"S\":\n",
    "    bill += 15\n",
    "elif size == \"M\":\n",
    "    bill += 20\n",
    "elif size == \"L\":\n",
    "    bill += 25\n",
    "else:\n",
    "    print(\"Please selected а valid size!\")\n",
    "    \n",
    "add_pepperoni = input(\"Do you want pepperoni? Y or N \").upper()\n",
    "if add_pepperoni == \"Y\":\n",
    "    if size == \"S\":\n",
    "        bill += 2\n",
    "    else:\n",
    "        bill += 3\n",
    "        \n",
    "extra_cheese = input(\"Do you want extra cheese? Y or N \").upper()\n",
    "if extra_cheese == \"Y\":\n",
    "    bill += 1\n",
    "\n",
    "print(f\"Your final bill is: €{bill}.\")"
   ]
  }
 ],
 "metadata": {
  "kernelspec": {
   "display_name": "Python 3 (ipykernel)",
   "language": "python",
   "name": "python3"
  },
  "language_info": {
   "codemirror_mode": {
    "name": "ipython",
    "version": 3
   },
   "file_extension": ".py",
   "mimetype": "text/x-python",
   "name": "python",
   "nbconvert_exporter": "python",
   "pygments_lexer": "ipython3",
   "version": "3.9.12"
  }
 },
 "nbformat": 4,
 "nbformat_minor": 5
}
