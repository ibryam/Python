{
 "cells": [
  {
   "cell_type": "code",
   "execution_count": null,
   "id": "e6633ea0",
   "metadata": {},
   "outputs": [],
   "source": [
    "#beginner\n",
    "#Password Generator Project\n",
    "import random\n",
    "letters = ['a', 'b', 'c', 'd', 'e', 'f', 'g', 'h', 'i', 'j', 'k', 'l', 'm', 'n', 'o', 'p', 'q', 'r', 's', 't', 'u', 'v', 'w', 'x', 'y', 'z', 'A', 'B', 'C', 'D', 'E', 'F', 'G', 'H', 'I', 'J', 'K', 'L', 'M', 'N', 'O', 'P', 'Q', 'R', 'S', 'T', 'U', 'V', 'W', 'X', 'Y', 'Z']\n",
    "numbers = ['0', '1', '2', '3', '4', '5', '6', '7', '8', '9']\n",
    "symbols = ['!', '#', '$', '%', '&', '(', ')', '*', '+']\n",
    "#symbols list can be expanded if needed.\n",
    "\n",
    "print(\"Welcome to the PyPassword Generator!\")\n",
    "nr_letters = int(input(\"How many letters would you like in your password?\\n\")) \n",
    "nr_symbols = int(input(f\"How many symbols would you like?\\n\"))\n",
    "nr_numbers = int(input(f\"How many numbers would you like?\\n\"))\n",
    "\n",
    "password1 = []\n",
    "\n",
    "#select random letters/symbols/numbers from the list and add all into a list \"password1\"\n",
    "for l in range(1, nr_letters + 1):\n",
    "    password1.append(random.choice(letters))\n",
    "    \n",
    "for s in range(1, nr_symbols + 1):\n",
    "    password1.append(random.choice(symbols))\n",
    "    \n",
    "for n in range(1, nr_numbers + 1):\n",
    "    password1.append(random.choice(numbers))\n",
    "    \n",
    "#shuffle the order of items in list password1\n",
    "random.shuffle(password1)\n",
    "\n",
    "#add items from the shuffled list to a new variable \"password\"\n",
    "password = \"\"\n",
    "for char in password1:\n",
    "    password += char\n",
    "\n",
    "#print the suggestion to the user    \n",
    "print(f\"Suggested password is: {password}\")\n",
    "    "
   ]
  },
  {
   "cell_type": "code",
   "execution_count": null,
   "id": "58e50648",
   "metadata": {},
   "outputs": [],
   "source": []
  },
  {
   "cell_type": "code",
   "execution_count": null,
   "id": "10e4e9c6",
   "metadata": {},
   "outputs": [],
   "source": []
  }
 ],
 "metadata": {
  "kernelspec": {
   "display_name": "Python 3 (ipykernel)",
   "language": "python",
   "name": "python3"
  },
  "language_info": {
   "codemirror_mode": {
    "name": "ipython",
    "version": 3
   },
   "file_extension": ".py",
   "mimetype": "text/x-python",
   "name": "python",
   "nbconvert_exporter": "python",
   "pygments_lexer": "ipython3",
   "version": "3.9.12"
  }
 },
 "nbformat": 4,
 "nbformat_minor": 5
}
