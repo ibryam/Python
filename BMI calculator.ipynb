{
 "cells": [
  {
   "cell_type": "code",
   "execution_count": 51,
   "id": "d58b248c",
   "metadata": {},
   "outputs": [
    {
     "name": "stdout",
     "output_type": "stream",
     "text": [
      "Enter your height in cm: 180\n",
      "Enter your weight in kg: 85\n"
     ]
    }
   ],
   "source": [
    "#Welcome to BMI calculator!\n",
    "\n",
    "#input request to enter height and weight in cm/kg\n",
    "height = float(input(\"Enter your height in cm: \"))\n",
    "weight = int(input(\"Enter your weight in kg: \"))\n"
   ]
  },
  {
   "cell_type": "code",
   "execution_count": 52,
   "id": "163c7d12",
   "metadata": {},
   "outputs": [
    {
     "name": "stdout",
     "output_type": "stream",
     "text": [
      "Your body mass index is 26! You are overweight\n"
     ]
    }
   ],
   "source": [
    "#change of the data types and reformating\n",
    "height_float = float(height)/100\n",
    "weight_int = float(weight)\n",
    "\n",
    "#formula according to https://www.cdc.gov/\n",
    "bmi =  weight_int/height_float**2\n",
    "bmi_int = int(bmi)\n",
    "\n",
    "\n",
    "# details notice\n",
    "if bmi_int > 0:\n",
    "    if bmi_int <= 18.5:\n",
    "        print(f\"Your body mass index is {bmi_int}! You are underweight\")\n",
    "    elif bmi_int<= 25:\n",
    "        print (f\"Your body mass index is {bmi_int}! You are healthy\")\n",
    "    elif bmi_int<= 29.99:\n",
    "        print (f\"Your body mass index is {bmi_int}! You are overweight\")\n",
    "    else: print(f\"Your body mass index is {bmi_int}! You are obese\")\n",
    "else: print(\"invalid details\")\n",
    "\n",
    "\n"
   ]
  },
  {
   "cell_type": "code",
   "execution_count": null,
   "id": "3e040931",
   "metadata": {},
   "outputs": [],
   "source": [
    "\n",
    "        "
   ]
  },
  {
   "cell_type": "code",
   "execution_count": null,
   "id": "41e74a4c",
   "metadata": {},
   "outputs": [],
   "source": []
  }
 ],
 "metadata": {
  "kernelspec": {
   "display_name": "Python 3 (ipykernel)",
   "language": "python",
   "name": "python3"
  },
  "language_info": {
   "codemirror_mode": {
    "name": "ipython",
    "version": 3
   },
   "file_extension": ".py",
   "mimetype": "text/x-python",
   "name": "python",
   "nbconvert_exporter": "python",
   "pygments_lexer": "ipython3",
   "version": "3.9.12"
  }
 },
 "nbformat": 4,
 "nbformat_minor": 5
}
