{
 "cells": [
  {
   "cell_type": "code",
   "execution_count": 42,
   "id": "1519c1d9",
   "metadata": {},
   "outputs": [
    {
     "name": "stdout",
     "output_type": "stream",
     "text": [
      "The Love Calculator is calculating your score...\n"
     ]
    }
   ],
   "source": [
    "print(\"The Love Calculator is calculating your score...\")"
   ]
  },
  {
   "cell_type": "code",
   "execution_count": 43,
   "id": "8f6190d1",
   "metadata": {},
   "outputs": [
    {
     "name": "stdout",
     "output_type": "stream",
     "text": [
      "Whats your name? Barack Obama\n",
      "Whats their name? Michell Obama\n"
     ]
    }
   ],
   "source": [
    "name1 = input(\"Whats your name? \")\n",
    "name2 = input(\"Whats their name? \")"
   ]
  },
  {
   "cell_type": "code",
   "execution_count": 44,
   "id": "1f118b13",
   "metadata": {},
   "outputs": [],
   "source": [
    "combined_names = name1 + name2\n",
    "lower_names = combined_names.lower()"
   ]
  },
  {
   "cell_type": "code",
   "execution_count": 45,
   "id": "265fadb9",
   "metadata": {},
   "outputs": [
    {
     "name": "stdout",
     "output_type": "stream",
     "text": [
      "Your score is 7, you go together like coke and mentos.\n"
     ]
    }
   ],
   "source": [
    "t = lower_names.count(\"t\")\n",
    "r = lower_names.count(\"r\")\n",
    "u = lower_names.count(\"u\")\n",
    "e = lower_names.count(\"e\")\n",
    "\n",
    "first_digit = t + r + u + e\n",
    "\n",
    "l = lower_names.count(\"l\")\n",
    "o = lower_names.count(\"o\")\n",
    "v = lower_names.count(\"v\")\n",
    "e = lower_names.count(\"e\")\n",
    "\n",
    "second_digit = l + o + v + e\n",
    "\n",
    "score = int(str(first_digit)) + int(str(second_digit))\n",
    "\n",
    "\n",
    "if (score < 10) or (score > 90):\n",
    "    print(f\"Your score is {score}, you go together like coke and mentos.\")\n",
    "elif (score >= 40) and (score<= 50):\n",
    "    print(f\"Your score is {score}, you are alright together.\")\n",
    "else:\n",
    "    print(f\"Your score is {score}.\")\n"
   ]
  },
  {
   "cell_type": "code",
   "execution_count": null,
   "id": "d74fafd7",
   "metadata": {},
   "outputs": [],
   "source": []
  }
 ],
 "metadata": {
  "kernelspec": {
   "display_name": "Python 3 (ipykernel)",
   "language": "python",
   "name": "python3"
  },
  "language_info": {
   "codemirror_mode": {
    "name": "ipython",
    "version": 3
   },
   "file_extension": ".py",
   "mimetype": "text/x-python",
   "name": "python",
   "nbconvert_exporter": "python",
   "pygments_lexer": "ipython3",
   "version": "3.9.12"
  }
 },
 "nbformat": 4,
 "nbformat_minor": 5
}
