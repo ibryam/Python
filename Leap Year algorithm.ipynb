{
 "cells": [
  {
   "cell_type": "code",
   "execution_count": 46,
   "id": "57f5197c",
   "metadata": {},
   "outputs": [
    {
     "name": "stdout",
     "output_type": "stream",
     "text": [
      "It takes Earth 365 days, 5 hours, 48 minutes and 46 seconds to orbit the sun - according to NASA.\n",
      "While that is rounded down to the 365 days we recognize as a typical year, those nearly six extra hours don't disappear.\n",
      "Instead, leap years are added to account for the difference.\n"
     ]
    }
   ],
   "source": [
    "#Welcome to leap year calculator.\n",
    "\n",
    "print(\"It takes Earth 365 days, 5 hours, 48 minutes and 46 seconds to orbit the sun - according to NASA.\")\n",
    "print(\"While that is rounded down to the 365 days we recognize as a typical year, those nearly six extra hours don't disappear.\")\n",
    "print(\"Instead, leap years are added to account for the difference.\")"
   ]
  },
  {
   "cell_type": "code",
   "execution_count": 47,
   "id": "667b1797",
   "metadata": {},
   "outputs": [
    {
     "name": "stdout",
     "output_type": "stream",
     "text": [
      "Enter the year you want to check. 2000\n"
     ]
    }
   ],
   "source": [
    "year = int(input(\"Enter the year you want to check. \"))"
   ]
  },
  {
   "cell_type": "code",
   "execution_count": 48,
   "id": "4bfac7a5",
   "metadata": {},
   "outputs": [
    {
     "name": "stdout",
     "output_type": "stream",
     "text": [
      "Leap year.\n"
     ]
    }
   ],
   "source": [
    "#algorithm - https://www.youtube.com/watch?v=xX96xng7sAE\n",
    "if year % 4 == 0: \n",
    "# e.g the year 2000 is leap because:\n",
    "\n",
    "#              2000 ÷ 4 = 500 (Leap!), \n",
    "#              2000 ÷ 100 = 20 (Leap!),\n",
    "#              2000 ÷ 400 = 5 (Leap!)\n",
    "\n",
    "# e.g the year 2100 is not leap because:\n",
    "\n",
    "#              2100 ÷ 4 = 525 (Leap),\n",
    "#              2100 ÷ 100 = 21 (Not Leap),\n",
    "#              2100 ÷ 400 = 5.25 (Not Leap)\n",
    "\n",
    "    if year % 100 == 0:\n",
    "        if year % 400 == 0:\n",
    "            print(\"Leap year.\")\n",
    "        else:\n",
    "            print(\"Not leap year.\")\n",
    "    else:\n",
    "        print(\"Leap year.\")\n",
    "else:\n",
    "    print(\"Not leap year.\")"
   ]
  }
 ],
 "metadata": {
  "kernelspec": {
   "display_name": "Python 3 (ipykernel)",
   "language": "python",
   "name": "python3"
  },
  "language_info": {
   "codemirror_mode": {
    "name": "ipython",
    "version": 3
   },
   "file_extension": ".py",
   "mimetype": "text/x-python",
   "name": "python",
   "nbconvert_exporter": "python",
   "pygments_lexer": "ipython3",
   "version": "3.9.12"
  }
 },
 "nbformat": 4,
 "nbformat_minor": 5
}
