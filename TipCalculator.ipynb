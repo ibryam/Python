{
 "cells": [
  {
   "cell_type": "code",
   "execution_count": 52,
   "id": "a6cee381",
   "metadata": {},
   "outputs": [
    {
     "name": "stdout",
     "output_type": "stream",
     "text": [
      "Welcome to the tip calculator!\n",
      "What was the total bill? €150\n",
      "What percentage tip would you like to give? %12\n",
      "How many people to split the bill? 5\n",
      "---> Tip amount: €18.0\n",
      "---> The total bill including the tip: €168.0\n",
      "---> Each person from the total 5 people should pay: €33.60\n"
     ]
    }
   ],
   "source": [
    "# Greeting note\n",
    "print (\"Welcome to the tip calculator!\")\n",
    "\n",
    "#query to enter the bill amount in euro\n",
    "bill = float(input (\"What was the total bill? €\"))\n",
    "\n",
    "#request to input the percentage\n",
    "percentage = int(input(\"What percentage tip would you like to give? %\"))\n",
    "\n",
    "#enter how many people will split the bill\n",
    "people = int(input(\"How many people to split the bill? \"))\n",
    "\n",
    "#tip calculation based on the input\n",
    "\n",
    "tip = (bill * percentage)/100\n",
    "\n",
    "#tip amount\n",
    "print(f\"---> Tip amount: €{tip}\")\n",
    "\n",
    "#total amount including the bill and the tip\n",
    "total_bill = bill + tip\n",
    "print(f\"---> The total bill including the tip: €{total_bill}\")\n",
    "\n",
    "#rounding to two decimal points\n",
    "each = round(total_bill / people,2)\n",
    "each = \"{:.2f}\".format(each)\n",
    "\n",
    "#final message\n",
    "print(f\"---> Each person from the total {people} people should pay: €{each}\")"
   ]
  },
  {
   "cell_type": "code",
   "execution_count": null,
   "id": "2d5fd722",
   "metadata": {},
   "outputs": [],
   "source": []
  },
  {
   "cell_type": "code",
   "execution_count": null,
   "id": "ad55fbf9",
   "metadata": {},
   "outputs": [],
   "source": []
  },
  {
   "cell_type": "code",
   "execution_count": null,
   "id": "de16f69f",
   "metadata": {},
   "outputs": [],
   "source": []
  }
 ],
 "metadata": {
  "kernelspec": {
   "display_name": "Python 3 (ipykernel)",
   "language": "python",
   "name": "python3"
  },
  "language_info": {
   "codemirror_mode": {
    "name": "ipython",
    "version": 3
   },
   "file_extension": ".py",
   "mimetype": "text/x-python",
   "name": "python",
   "nbconvert_exporter": "python",
   "pygments_lexer": "ipython3",
   "version": "3.9.12"
  }
 },
 "nbformat": 4,
 "nbformat_minor": 5
}
