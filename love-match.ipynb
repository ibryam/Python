{
 "cells": [
  {
   "cell_type": "code",
   "execution_count": null,
   "id": "1519c1d9",
   "metadata": {},
   "outputs": [],
   "source": [
    "print(\"The Love Calculator is calculating your score...\")\n",
    "\n",
    "\n",
    "#To work out the love score between two people:\n",
    "#Take both people's names and check for the number of times the letters in the word TRUE occurs.\n",
    "#Then check for the number of times the letters in the word LOVE occurs.\n",
    "#Then combine these numbers to make a 2 digit number.\n",
    "#For Love Scores less than 10 or greater than 90, the message should be:\n",
    "#\"Your score is *x*, you go together like coke and mentos.\"\n",
    "#For Love Scores between 40 and 50, the message should be:\n",
    "#\"Your score is *y*, you are alright together.\"\n",
    "#Otherwise, the message will just be their score. e.g.:\n",
    "#\"Your score is *z*.\""
   ]
  },
  {
   "cell_type": "code",
   "execution_count": null,
   "id": "8f6190d1",
   "metadata": {},
   "outputs": [],
   "source": [
    "name1 = input(\"Whats your name? \")\n",
    "name2 = input(\"Whats their name? \")"
   ]
  },
  {
   "cell_type": "code",
   "execution_count": 44,
   "id": "1f118b13",
   "metadata": {},
   "outputs": [],
   "source": [
    "combined_names = name1 + name2\n",
    "lower_names = combined_names.lower()"
   ]
  },
  {
   "cell_type": "code",
   "execution_count": null,
   "id": "265fadb9",
   "metadata": {},
   "outputs": [],
   "source": [
    "#count the instances when a letters from TRUE LOVE occurs in both of the names from the input and merge into a variable called \"score\"\n",
    "t = lower_names.count(\"t\")\n",
    "r = lower_names.count(\"r\")\n",
    "u = lower_names.count(\"u\")\n",
    "e = lower_names.count(\"e\")\n",
    "\n",
    "first_digit = t + r + u + e\n",
    "\n",
    "l = lower_names.count(\"l\")\n",
    "o = lower_names.count(\"o\")\n",
    "v = lower_names.count(\"v\")\n",
    "e = lower_names.count(\"e\")\n",
    "\n",
    "second_digit = l + o + v + e\n",
    "\n",
    "\n",
    "score = int(str(first_digit)) + int(str(second_digit))\n",
    "\n",
    "\n",
    "if (score < 10) or (score > 90):\n",
    "    print(f\"Your score is {score}, you go together like coke and mentos.\")\n",
    "elif (score >= 40) and (score<= 50):\n",
    "    print(f\"Your score is {score}, you are alright together.\")\n",
    "else:\n",
    "    print(f\"Your score is {score}.\")\n"
   ]
  },
  {
   "cell_type": "code",
   "execution_count": null,
   "id": "d74fafd7",
   "metadata": {},
   "outputs": [],
   "source": []
  }
 ],
 "metadata": {
  "kernelspec": {
   "display_name": "Python 3 (ipykernel)",
   "language": "python",
   "name": "python3"
  },
  "language_info": {
   "codemirror_mode": {
    "name": "ipython",
    "version": 3
   },
   "file_extension": ".py",
   "mimetype": "text/x-python",
   "name": "python",
   "nbconvert_exporter": "python",
   "pygments_lexer": "ipython3",
   "version": "3.9.12"
  }
 },
 "nbformat": 4,
 "nbformat_minor": 5
}
