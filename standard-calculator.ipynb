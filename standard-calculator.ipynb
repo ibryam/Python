{
 "cells": [
  {
   "cell_type": "code",
   "execution_count": 1,
   "id": "e1325a35",
   "metadata": {},
   "outputs": [
    {
     "name": "stdout",
     "output_type": "stream",
     "text": [
      "+\n",
      "-\n",
      "*\n",
      "/\n"
     ]
    }
   ],
   "source": [
    "#beginner\n",
    "\n",
    "def add(n1, n2):\n",
    "    return n1 + n2\n",
    "\n",
    "def subtract(n1, n2):\n",
    "    return n1 - n2\n",
    "\n",
    "def multiply(n1, n2):\n",
    "    return n1 * n2\n",
    "\n",
    "def divide(n1, n2):\n",
    "    return n1 / n2\n",
    "\n",
    "\n",
    "operations = {\n",
    "    \"+\": add,\n",
    "    \"-\": subtract,\n",
    "    \"*\": multiply,\n",
    "    \"/\": divide\n",
    "}\n",
    "\n",
    "for symbol in operations:\n",
    "    print(symbol)"
   ]
  },
  {
   "cell_type": "code",
   "execution_count": null,
   "id": "b1190763",
   "metadata": {
    "collapsed": true
   },
   "outputs": [
    {
     "name": "stdout",
     "output_type": "stream",
     "text": [
      "What's the first number? 155\n",
      "+\n",
      "-\n",
      "*\n",
      "/\n",
      "Pick an operation: \n",
      "+\n",
      "What's the next number? \n",
      "5\n",
      "155 + 5 = 160\n",
      "Type 'y' to continue calculating with 160, or type 'n' to start a new calculation: y\n",
      "Pick an operation: \n",
      "/\n",
      "What's the next number? \n",
      "15\n",
      "160 / 15 = 10.666666666666666\n",
      "Type 'y' to continue calculating with 10.666666666666666, or type 'n' to start a new calculation: n\n",
      "What's the first number? 15\n",
      "+\n",
      "-\n",
      "*\n",
      "/\n",
      "Pick an operation: \n",
      "+\n",
      "What's the next number? \n",
      "1\n",
      "15 + 1 = 16\n",
      "Type 'y' to continue calculating with 16, or type 'n' to start a new calculation: n\n"
     ]
    }
   ],
   "source": [
    "#recursion\n",
    "\n",
    "def calculator():\n",
    "    \n",
    "    num1 = float(input(\"What's the first number? \"))\n",
    "\n",
    "    for symbol in operations:\n",
    "        print(symbol)\n",
    "\n",
    "    should_continue = True\n",
    "#while loop\n",
    "    while should_continue:\n",
    "\n",
    "        operation_symbol = input(\"Pick an operation: \\n\")\n",
    "\n",
    "        num2 = float(input(\"What's the next number? \\n\"))\n",
    "        result = operations[operation_symbol](num1, num2)\n",
    "        print(f\"{num1} {operation_symbol} {num2} = {result}\")\n",
    "\n",
    "        if input(f\"Type 'y' to continue calculating with {result}, or type 'n' to start a new calculation: \") == 'y':\n",
    "            num1 = result\n",
    "        else:\n",
    "            should_continue = False\n",
    "            calculator()\n",
    "            \n",
    "calculator()"
   ]
  },
  {
   "cell_type": "code",
   "execution_count": null,
   "id": "5463517a",
   "metadata": {},
   "outputs": [],
   "source": []
  }
 ],
 "metadata": {
  "kernelspec": {
   "display_name": "Python 3 (ipykernel)",
   "language": "python",
   "name": "python3"
  },
  "language_info": {
   "codemirror_mode": {
    "name": "ipython",
    "version": 3
   },
   "file_extension": ".py",
   "mimetype": "text/x-python",
   "name": "python",
   "nbconvert_exporter": "python",
   "pygments_lexer": "ipython3",
   "version": "3.9.12"
  }
 },
 "nbformat": 4,
 "nbformat_minor": 5
}
