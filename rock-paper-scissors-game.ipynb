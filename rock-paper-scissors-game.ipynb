{
 "cells": [
  {
   "cell_type": "code",
   "execution_count": 19,
   "id": "59363db7",
   "metadata": {},
   "outputs": [],
   "source": [
    "#beginner\n",
    "\n",
    "#this is the classic rock-paper-scissor game.\n",
    "\n",
    "#Introduction. Rock, Paper, Scissors is a classic hand game that is widely known and played. \n",
    "#The game is played by two players, who simultaneously choose one of three options: rock, paper or scissors.\n",
    "#The game is determined by a simple set of rules: rock beats scissors, scissors beat paper, and paper beats rock.\n",
    "import random\n",
    "\n",
    "rock = \"🗿\"\n",
    "paper = \"📜\"\n",
    "scissors = \"✂\"\n",
    "game_images = [rock, paper, scissors]\n",
    "#imageindex = [0,      1,     2     ]"
   ]
  },
  {
   "cell_type": "code",
   "execution_count": null,
   "id": "6b218797",
   "metadata": {},
   "outputs": [],
   "source": [
    "print(game_images)"
   ]
  },
  {
   "cell_type": "code",
   "execution_count": 21,
   "id": "e9a73342",
   "metadata": {},
   "outputs": [
    {
     "name": "stdout",
     "output_type": "stream",
     "text": [
      "What do you choose? Type 0 for Rock, 1 for Paper or 2 for Scissors.\n",
      "1\n",
      "📜\n",
      "Computer chose:\n",
      "🗿\n",
      "You win!\n"
     ]
    }
   ],
   "source": [
    "user_choice = int(input(\"What do you choose? Type 0 for Rock, 1 for Paper or 2 for Scissors.\\n\"))\n",
    "\n",
    "#getting rid of unexpected input by removing all values less than 0 and greater than or equal to 3.\n",
    "if user_choice >= 3 or user_choice < 0: \n",
    "    print(\"You typed an invalid number, you lose!\") \n",
    "else:\n",
    "    print(game_images[user_choice])\n",
    "\n",
    "    computer_choice = random.randint(0, 2)\n",
    "    print(\"Computer chose:\")\n",
    "    print(game_images[computer_choice])\n",
    "\n",
    "# based on the indexes above the greater index wins however there is an exception - rock wins vs scissors. This is what is applied in this line of code initally.\n",
    "    if user_choice == 0 and computer_choice == 2:\n",
    "        print(\"You win!\")\n",
    "    elif computer_choice == 0 and user_choice == 2:\n",
    "        print(\"You lose\")\n",
    "    elif computer_choice > user_choice:\n",
    "        print(\"You lose\")\n",
    "    elif user_choice > computer_choice:\n",
    "        print(\"You win!\")\n",
    "\n",
    "# print draw if same index is chosen.\n",
    "    elif computer_choice == user_choice:\n",
    "        print(\"It's a draw\")"
   ]
  },
  {
   "cell_type": "code",
   "execution_count": null,
   "id": "df93ad0a",
   "metadata": {},
   "outputs": [],
   "source": []
  }
 ],
 "metadata": {
  "kernelspec": {
   "display_name": "Python 3 (ipykernel)",
   "language": "python",
   "name": "python3"
  },
  "language_info": {
   "codemirror_mode": {
    "name": "ipython",
    "version": 3
   },
   "file_extension": ".py",
   "mimetype": "text/x-python",
   "name": "python",
   "nbconvert_exporter": "python",
   "pygments_lexer": "ipython3",
   "version": "3.9.12"
  }
 },
 "nbformat": 4,
 "nbformat_minor": 5
}
